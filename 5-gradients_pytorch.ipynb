{
 "cells": [
  {
   "cell_type": "code",
   "execution_count": 30,
   "metadata": {},
   "outputs": [],
   "source": [
    "import torch \n",
    "import torch.nn as nn"
   ]
  },
  {
   "cell_type": "code",
   "execution_count": 35,
   "metadata": {},
   "outputs": [
    {
     "name": "stdout",
     "output_type": "stream",
     "text": [
      "4 1\n"
     ]
    }
   ],
   "source": [
    "#f = w *x\n",
    "#f = 2 * x\n",
    "\n",
    "X = torch.tensor([[1], [2], [3], [4]], dtype = tr.float32)\n",
    "Y = torch.tensor([[2], [4], [6], [8]], dtype= tr.float32)\n",
    "\n",
    "n_sample, n_features= X.shape\n",
    "print(n_sample, n_features)"
   ]
  },
  {
   "cell_type": "code",
   "execution_count": 36,
   "metadata": {},
   "outputs": [],
   "source": [
    "X_test = torch.tensor([5], dtype= tr.float32)\n"
   ]
  },
  {
   "cell_type": "code",
   "execution_count": 37,
   "metadata": {},
   "outputs": [
    {
     "name": "stdout",
     "output_type": "stream",
     "text": [
      "Pediction before training : f(5) = -2.743\n"
     ]
    }
   ],
   "source": [
    "input_size = n_features\n",
    "output_size = n_features\n",
    "\n",
    "model = nn.Linear(input_size, output_size)\n",
    "print(f'Pediction before training : f(5) = {model(X_test).item():.3f}')"
   ]
  },
  {
   "cell_type": "code",
   "execution_count": 38,
   "metadata": {},
   "outputs": [
    {
     "name": "stdout",
     "output_type": "stream",
     "text": [
      "epoch1: w=-0.352, loss = 44.62372589\n",
      "epoch11: w=1.186, loss = 1.53898382\n",
      "epoch21: w=1.447, loss = 0.40190145\n",
      "epoch31: w=1.501, loss = 0.35140711\n",
      "epoch41: w=1.522, loss = 0.33025238\n",
      "epoch51: w=1.537, loss = 0.31101167\n",
      "epoch61: w=1.551, loss = 0.29290876\n",
      "epoch71: w=1.564, loss = 0.27585995\n",
      "epoch81: w=1.577, loss = 0.25980341\n",
      "epoch91: w=1.590, loss = 0.24468167\n",
      "Pediction before training : f(5) = 9.177\n"
     ]
    }
   ],
   "source": [
    "learning_rate= 0.01\n",
    "n_iters = 100\n",
    "\n",
    "loss = nn.MSELoss()\n",
    "optimizer =  tr.optim.SGD(model.parameters(), lr=learning_rate)\n",
    "\n",
    "for epoch in range(n_iters):\n",
    "    # prediction = forward pass\n",
    "    y_pred = model(X)\n",
    "     \n",
    "    #loss\n",
    "    l = loss(Y, y_pred) \n",
    "    \n",
    "    # gradients = backward pass\n",
    "    l.backward() # dl/dw\n",
    "   \n",
    "    # update weights\n",
    "    optimizer.step()\n",
    "    \n",
    "    # zero gradients \n",
    "    optimizer.zero_grad()\n",
    "    \n",
    "    if epoch % 10 == 0:\n",
    "        [w,b] = model.parameters()                  \n",
    "        \n",
    "        print(f'epoch{epoch+1}: w={w[0][0].item():.3f}, loss = {l:.8f}')\n",
    "   \n",
    "print(f'Pediction before training : f(5) = {model(x_test).item():.3f}')\n"
   ]
  },
  {
   "cell_type": "code",
   "execution_count": null,
   "metadata": {},
   "outputs": [],
   "source": []
  },
  {
   "cell_type": "code",
   "execution_count": null,
   "metadata": {},
   "outputs": [],
   "source": [
    "\n"
   ]
  },
  {
   "cell_type": "code",
   "execution_count": null,
   "metadata": {},
   "outputs": [],
   "source": []
  },
  {
   "cell_type": "code",
   "execution_count": null,
   "metadata": {},
   "outputs": [],
   "source": []
  },
  {
   "cell_type": "code",
   "execution_count": null,
   "metadata": {},
   "outputs": [],
   "source": []
  }
 ],
 "metadata": {
  "kernelspec": {
   "display_name": "Python 3",
   "language": "python",
   "name": "python3"
  },
  "language_info": {
   "codemirror_mode": {
    "name": "ipython",
    "version": 3
   },
   "file_extension": ".py",
   "mimetype": "text/x-python",
   "name": "python",
   "nbconvert_exporter": "python",
   "pygments_lexer": "ipython3",
   "version": "3.7.7"
  }
 },
 "nbformat": 4,
 "nbformat_minor": 4
}
