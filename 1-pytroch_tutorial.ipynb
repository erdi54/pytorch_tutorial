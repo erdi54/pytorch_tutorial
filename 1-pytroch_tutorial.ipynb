{
 "cells": [
  {
   "cell_type": "code",
   "execution_count": 1,
   "metadata": {},
   "outputs": [],
   "source": [
    "import torch"
   ]
  },
  {
   "cell_type": "code",
   "execution_count": 2,
   "metadata": {},
   "outputs": [
    {
     "name": "stdout",
     "output_type": "stream",
     "text": [
      "tensor([[[[9.2755e-39, 1.0837e-38, 8.4490e-39],\n",
      "          [8.9082e-39, 8.9082e-39, 4.1328e-39]],\n",
      "\n",
      "         [[9.2756e-39, 8.9082e-39, 9.9184e-39],\n",
      "          [9.0000e-39, 1.0561e-38, 1.0653e-38]]],\n",
      "\n",
      "\n",
      "        [[[4.1327e-39, 8.9082e-39, 9.8265e-39],\n",
      "          [9.4592e-39, 1.0561e-38, 1.0653e-38]],\n",
      "\n",
      "         [[1.0469e-38, 9.5510e-39, 1.0378e-38],\n",
      "          [8.9082e-39, 1.0653e-38, 1.1204e-38]]]])\n"
     ]
    }
   ],
   "source": [
    "x = torch.empty(2,2,2,3)\n",
    "print(x)"
   ]
  },
  {
   "cell_type": "code",
   "execution_count": 3,
   "metadata": {},
   "outputs": [
    {
     "name": "stdout",
     "output_type": "stream",
     "text": [
      "tensor([[1., 1.],\n",
      "        [1., 1.]], dtype=torch.float16)\n",
      "torch.float16\n",
      "torch.Size([2, 2])\n"
     ]
    }
   ],
   "source": [
    "x1 = torch.ones(2,2, dtype=torch.float16)\n",
    "print(x1)\n",
    "print(x1.dtype)\n",
    "print(x1.size())"
   ]
  },
  {
   "cell_type": "code",
   "execution_count": 4,
   "metadata": {},
   "outputs": [
    {
     "name": "stdout",
     "output_type": "stream",
     "text": [
      "tensor([2.5000, 0.1000])\n"
     ]
    }
   ],
   "source": [
    "x2 = torch.tensor([2.5, 0.1]) \n",
    "print(x2)"
   ]
  },
  {
   "cell_type": "code",
   "execution_count": 5,
   "metadata": {},
   "outputs": [
    {
     "name": "stdout",
     "output_type": "stream",
     "text": [
      "tensor([[0.6348, 0.2027],\n",
      "        [0.6874, 0.6964]])\n",
      "tensor([[0.3473, 0.6058],\n",
      "        [0.9336, 0.8834]])\n"
     ]
    }
   ],
   "source": [
    "t1 = torch.rand(2,2)\n",
    "t2 = torch.rand(2,2)\n",
    "print(t1)\n",
    "print(t2)"
   ]
  },
  {
   "cell_type": "code",
   "execution_count": 6,
   "metadata": {},
   "outputs": [
    {
     "name": "stdout",
     "output_type": "stream",
     "text": [
      "tensor([[0.9821, 0.8085],\n",
      "        [1.6210, 1.5799]])\n"
     ]
    }
   ],
   "source": [
    "#z = t1 + t2\n",
    "z = torch.add(t1,t2)\n",
    "print(z)"
   ]
  },
  {
   "cell_type": "code",
   "execution_count": 7,
   "metadata": {},
   "outputs": [
    {
     "name": "stdout",
     "output_type": "stream",
     "text": [
      "tensor([[0.9821, 0.8085],\n",
      "        [1.6210, 1.5799]])\n"
     ]
    }
   ],
   "source": [
    "t2.add_(t1)\n",
    "print(t2)"
   ]
  },
  {
   "cell_type": "code",
   "execution_count": 8,
   "metadata": {},
   "outputs": [
    {
     "name": "stdout",
     "output_type": "stream",
     "text": [
      "tensor([[-0.3473, -0.6058],\n",
      "        [-0.9336, -0.8834]])\n"
     ]
    }
   ],
   "source": [
    "#z = t1-t2\n",
    "z1 = torch.sub(t1,t2)\n",
    "print(z1)"
   ]
  },
  {
   "cell_type": "code",
   "execution_count": 9,
   "metadata": {},
   "outputs": [
    {
     "name": "stdout",
     "output_type": "stream",
     "text": [
      "tensor([[0.6235, 0.1639],\n",
      "        [1.1144, 1.1003]])\n"
     ]
    }
   ],
   "source": [
    "#z = t1*t2 \n",
    "z2 = torch.mul(t1,t2)\n",
    "print(z2)"
   ]
  },
  {
   "cell_type": "code",
   "execution_count": 10,
   "metadata": {},
   "outputs": [
    {
     "data": {
      "text/plain": [
       "tensor([[0.6235, 0.1639],\n",
       "        [1.1144, 1.1003]])"
      ]
     },
     "execution_count": 10,
     "metadata": {},
     "output_type": "execute_result"
    }
   ],
   "source": [
    "t2.mul_(t1)"
   ]
  },
  {
   "cell_type": "code",
   "execution_count": 11,
   "metadata": {},
   "outputs": [
    {
     "name": "stdout",
     "output_type": "stream",
     "text": [
      "tensor([[1.0182, 1.2369],\n",
      "        [0.6169, 0.6330]])\n"
     ]
    }
   ],
   "source": [
    "#z = t1/t2\n",
    "z3 = torch.div(t1,t2)\n",
    "print(z3)"
   ]
  },
  {
   "cell_type": "code",
   "execution_count": 12,
   "metadata": {},
   "outputs": [
    {
     "name": "stdout",
     "output_type": "stream",
     "text": [
      "tensor([[0.7948, 0.9898, 0.2955],\n",
      "        [0.1230, 0.9752, 0.0979],\n",
      "        [0.9278, 0.4601, 0.1212],\n",
      "        [0.4092, 0.7441, 0.1984],\n",
      "        [0.2472, 0.9023, 0.8182]])\n",
      "tensor([0.7948, 0.1230, 0.9278, 0.4092, 0.2472])\n"
     ]
    }
   ],
   "source": [
    "z4 =  torch.rand(5,3)\n",
    "print(z4)\n",
    "print(z4[:, 0])"
   ]
  },
  {
   "cell_type": "code",
   "execution_count": 13,
   "metadata": {},
   "outputs": [
    {
     "name": "stdout",
     "output_type": "stream",
     "text": [
      "tensor([0.1230, 0.9752, 0.0979])\n"
     ]
    }
   ],
   "source": [
    "print(z4[1, :])"
   ]
  },
  {
   "cell_type": "code",
   "execution_count": 14,
   "metadata": {},
   "outputs": [
    {
     "name": "stdout",
     "output_type": "stream",
     "text": [
      "0.9751580953598022\n"
     ]
    }
   ],
   "source": [
    "print(z4[1, 1].item())"
   ]
  },
  {
   "cell_type": "code",
   "execution_count": 15,
   "metadata": {},
   "outputs": [
    {
     "name": "stdout",
     "output_type": "stream",
     "text": [
      "tensor([[0.3483, 0.1524, 0.8536, 0.7753],\n",
      "        [0.2021, 0.2508, 0.0708, 0.7656],\n",
      "        [0.5109, 0.4282, 0.2245, 0.8502],\n",
      "        [0.0572, 0.6602, 0.7345, 0.0198]])\n",
      "tensor([0.3483, 0.1524, 0.8536, 0.7753, 0.2021, 0.2508, 0.0708, 0.7656, 0.5109,\n",
      "        0.4282, 0.2245, 0.8502, 0.0572, 0.6602, 0.7345, 0.0198])\n"
     ]
    }
   ],
   "source": [
    "z5 =  torch.rand(4,4)\n",
    "print(z5)\n",
    "z5_ =z5.view(16) \n",
    "print(z5_)"
   ]
  },
  {
   "cell_type": "code",
   "execution_count": 16,
   "metadata": {},
   "outputs": [
    {
     "name": "stdout",
     "output_type": "stream",
     "text": [
      "torch.Size([2, 8])\n"
     ]
    }
   ],
   "source": [
    "z5_ =z5.view(-1,8)\n",
    "print(z5_.size())"
   ]
  },
  {
   "cell_type": "code",
   "execution_count": 17,
   "metadata": {},
   "outputs": [],
   "source": [
    "import numpy as np"
   ]
  },
  {
   "cell_type": "code",
   "execution_count": 18,
   "metadata": {},
   "outputs": [
    {
     "name": "stdout",
     "output_type": "stream",
     "text": [
      "tensor([1., 1., 1., 1., 1.])\n"
     ]
    }
   ],
   "source": [
    "a = torch.ones(5)\n",
    "print(a)"
   ]
  },
  {
   "cell_type": "code",
   "execution_count": 19,
   "metadata": {},
   "outputs": [
    {
     "name": "stdout",
     "output_type": "stream",
     "text": [
      "<class 'numpy.ndarray'>\n"
     ]
    }
   ],
   "source": [
    "b= a.numpy()\n",
    "print(type(b))"
   ]
  },
  {
   "cell_type": "code",
   "execution_count": 20,
   "metadata": {},
   "outputs": [
    {
     "name": "stdout",
     "output_type": "stream",
     "text": [
      "tensor([2., 2., 2., 2., 2.])\n",
      "[2. 2. 2. 2. 2.]\n"
     ]
    }
   ],
   "source": [
    "a.add_(1)\n",
    "print(a)\n",
    "print(b)"
   ]
  },
  {
   "cell_type": "code",
   "execution_count": 21,
   "metadata": {},
   "outputs": [
    {
     "name": "stdout",
     "output_type": "stream",
     "text": [
      "[1. 1. 1. 1. 1.]\n",
      "tensor([1., 1., 1., 1., 1.], dtype=torch.float64)\n"
     ]
    }
   ],
   "source": [
    "arr = np.ones(5)\n",
    "print(arr)\n",
    "arr1 = torch.from_numpy(arr)\n",
    "print(arr1)"
   ]
  },
  {
   "cell_type": "code",
   "execution_count": 22,
   "metadata": {},
   "outputs": [
    {
     "name": "stdout",
     "output_type": "stream",
     "text": [
      "tensor([2., 2., 2., 2., 2.], device='cuda:0')\n"
     ]
    }
   ],
   "source": [
    "if torch.cuda.is_available():\n",
    "    device = torch.device(\"cuda\")\n",
    "    x = torch.ones(5, device=device )\n",
    "    y = torch.ones(5)\n",
    "    y= y.to(device)\n",
    "    z = x+y\n",
    "    print(z)"
   ]
  },
  {
   "cell_type": "code",
   "execution_count": null,
   "metadata": {},
   "outputs": [],
   "source": []
  },
  {
   "cell_type": "code",
   "execution_count": null,
   "metadata": {},
   "outputs": [],
   "source": []
  }
 ],
 "metadata": {
  "kernelspec": {
   "display_name": "Python 3",
   "language": "python",
   "name": "python3"
  },
  "language_info": {
   "codemirror_mode": {
    "name": "ipython",
    "version": 3
   },
   "file_extension": ".py",
   "mimetype": "text/x-python",
   "name": "python",
   "nbconvert_exporter": "python",
   "pygments_lexer": "ipython3",
   "version": "3.7.6"
  }
 },
 "nbformat": 4,
 "nbformat_minor": 4
}
