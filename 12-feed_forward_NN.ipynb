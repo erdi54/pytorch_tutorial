{
 "cells": [
  {
   "cell_type": "markdown",
   "metadata": {},
   "source": [
    "#### Mnist datset\n",
    "#### Dataloader and Transformation\n",
    "#### Multileyer NN, activation function\n",
    "#### Loss and optimizer\n",
    "#### Training Loop(batch training)\n",
    "#### Model evaluation\n",
    "#### Gpu support"
   ]
  },
  {
   "cell_type": "code",
   "execution_count": 46,
   "metadata": {},
   "outputs": [],
   "source": [
    "import torch\n",
    "import torch.nn as nn\n",
    "import torchvision\n",
    "import torchvision.transforms as transforms\n",
    "import matplotlib.pyplot as plt"
   ]
  },
  {
   "cell_type": "code",
   "execution_count": 47,
   "metadata": {},
   "outputs": [],
   "source": [
    "# device config\n",
    "device = torch.device('cuda' if torch.cuda.is_available() else 'cpu')"
   ]
  },
  {
   "cell_type": "code",
   "execution_count": 48,
   "metadata": {},
   "outputs": [],
   "source": [
    "# hyper parameters\n",
    "input_size = 784 # 28*28\n",
    "hidden_size = 100\n",
    "num_classes = 10\n",
    "num_epochs = 10\n",
    "batch_size = 100\n",
    "learnig_rate = 0.001"
   ]
  },
  {
   "cell_type": "code",
   "execution_count": 49,
   "metadata": {},
   "outputs": [],
   "source": [
    "# Mnist\n",
    "train_dataset = torchvision.datasets.MNIST(root = './data', train = True, \n",
    "                                           transform = transforms.ToTensor())\n",
    "test_dataset = torchvision.datasets.MNIST(root = './data', train = True, \n",
    "                                           transform = transforms.ToTensor())\n",
    "\n",
    "train_loader = torch.utils.data.DataLoader(dataset=train_dataset, batch_size=batch_size, shuffle=True)\n",
    "\n",
    "test_loader = torch.utils.data.DataLoader(dataset=test_dataset, batch_size=batch_size, shuffle=True)"
   ]
  },
  {
   "cell_type": "code",
   "execution_count": 50,
   "metadata": {},
   "outputs": [
    {
     "name": "stdout",
     "output_type": "stream",
     "text": [
      "torch.Size([100, 1, 28, 28]) torch.Size([100])\n"
     ]
    }
   ],
   "source": [
    "examples = iter(train_loader)\n",
    "example_data, example_targets = examples.next()\n",
    "print(example_data.shape, example_targets.shape)"
   ]
  },
  {
   "cell_type": "code",
   "execution_count": 51,
   "metadata": {},
   "outputs": [
    {
     "data": {
      "image/png": "[encoded data removed]",
      "text/plain": [
       "<Figure size 432x288 with 6 Axes>"
      ]
     },
     "metadata": {
      "needs_background": "light"
     },
     "output_type": "display_data"
    }
   ],
   "source": [
    "for i in range (6):\n",
    "    plt.subplot(2,3, i+1)\n",
    "    plt.imshow(example_data[i][0], cmap=\"gray\")\n",
    "plt.show()   "
   ]
  },
  {
   "cell_type": "code",
   "execution_count": 52,
   "metadata": {},
   "outputs": [],
   "source": [
    "class NeuralNet(nn.Module):\n",
    "    def __init__(self, input_size, hidden_size, num_classes):\n",
    "        super(NeuralNet, self).__init__()\n",
    "        self.l1 = nn.Linear(input_size, hidden_size)\n",
    "        self.relu = nn.ReLU()\n",
    "        self.l2 = nn.Linear(hidden_size, num_classes)\n",
    "    \n",
    "    def forward(self, x):\n",
    "        out = self.l1(x)\n",
    "        out = self.relu(out)\n",
    "        out = self.l2(out)\n",
    "        return out    "
   ]
  },
  {
   "cell_type": "code",
   "execution_count": 53,
   "metadata": {},
   "outputs": [],
   "source": [
    "model = NeuralNet(input_size, hidden_size, num_classes)\n",
    "model.cuda()\n",
    "\n",
    "#loss and optimizer\n",
    "criterion = nn.CrossEntropyLoss()\n",
    "optimizer = torch.optim.Adam(model.parameters(), lr=learnig_rate)"
   ]
  },
  {
   "cell_type": "code",
   "execution_count": 55,
   "metadata": {},
   "outputs": [
    {
     "name": "stdout",
     "output_type": "stream",
     "text": [
      "Epoch [1/10], Step [100/600], Loss: 0.0288\n",
      "Epoch [1/10], Step [200/600], Loss: 0.0106\n",
      "Epoch [1/10], Step [300/600], Loss: 0.0601\n",
      "Epoch [1/10], Step [400/600], Loss: 0.0284\n",
      "Epoch [1/10], Step [500/600], Loss: 0.0274\n",
      "Epoch [1/10], Step [600/600], Loss: 0.0267\n",
      "Epoch [2/10], Step [100/600], Loss: 0.0478\n",
      "Epoch [2/10], Step [200/600], Loss: 0.0363\n",
      "Epoch [2/10], Step [300/600], Loss: 0.0097\n",
      "Epoch [2/10], Step [400/600], Loss: 0.0166\n",
      "Epoch [2/10], Step [500/600], Loss: 0.0091\n",
      "Epoch [2/10], Step [600/600], Loss: 0.0885\n",
      "Epoch [3/10], Step [100/600], Loss: 0.0244\n",
      "Epoch [3/10], Step [200/600], Loss: 0.0484\n",
      "Epoch [3/10], Step [300/600], Loss: 0.0211\n",
      "Epoch [3/10], Step [400/600], Loss: 0.0300\n",
      "Epoch [3/10], Step [500/600], Loss: 0.0174\n",
      "Epoch [3/10], Step [600/600], Loss: 0.0283\n",
      "Epoch [4/10], Step [100/600], Loss: 0.0103\n",
      "Epoch [4/10], Step [200/600], Loss: 0.0401\n",
      "Epoch [4/10], Step [300/600], Loss: 0.0116\n",
      "Epoch [4/10], Step [400/600], Loss: 0.0163\n",
      "Epoch [4/10], Step [500/600], Loss: 0.0386\n",
      "Epoch [4/10], Step [600/600], Loss: 0.0164\n",
      "Epoch [5/10], Step [100/600], Loss: 0.0365\n",
      "Epoch [5/10], Step [200/600], Loss: 0.0240\n",
      "Epoch [5/10], Step [300/600], Loss: 0.0104\n",
      "Epoch [5/10], Step [400/600], Loss: 0.0074\n",
      "Epoch [5/10], Step [500/600], Loss: 0.0586\n",
      "Epoch [5/10], Step [600/600], Loss: 0.0196\n",
      "Epoch [6/10], Step [100/600], Loss: 0.0059\n",
      "Epoch [6/10], Step [200/600], Loss: 0.0045\n",
      "Epoch [6/10], Step [300/600], Loss: 0.0146\n",
      "Epoch [6/10], Step [400/600], Loss: 0.0274\n",
      "Epoch [6/10], Step [500/600], Loss: 0.0057\n",
      "Epoch [6/10], Step [600/600], Loss: 0.0078\n",
      "Epoch [7/10], Step [100/600], Loss: 0.0096\n",
      "Epoch [7/10], Step [200/600], Loss: 0.0037\n",
      "Epoch [7/10], Step [300/600], Loss: 0.0064\n",
      "Epoch [7/10], Step [400/600], Loss: 0.0070\n",
      "Epoch [7/10], Step [500/600], Loss: 0.0183\n",
      "Epoch [7/10], Step [600/600], Loss: 0.0044\n",
      "Epoch [8/10], Step [100/600], Loss: 0.0163\n",
      "Epoch [8/10], Step [200/600], Loss: 0.0316\n",
      "Epoch [8/10], Step [300/600], Loss: 0.0050\n",
      "Epoch [8/10], Step [400/600], Loss: 0.0035\n",
      "Epoch [8/10], Step [500/600], Loss: 0.0122\n",
      "Epoch [8/10], Step [600/600], Loss: 0.0083\n",
      "Epoch [9/10], Step [100/600], Loss: 0.0020\n",
      "Epoch [9/10], Step [200/600], Loss: 0.0019\n",
      "Epoch [9/10], Step [300/600], Loss: 0.0223\n",
      "Epoch [9/10], Step [400/600], Loss: 0.0042\n",
      "Epoch [9/10], Step [500/600], Loss: 0.0046\n",
      "Epoch [9/10], Step [600/600], Loss: 0.0067\n",
      "Epoch [10/10], Step [100/600], Loss: 0.0045\n",
      "Epoch [10/10], Step [200/600], Loss: 0.0048\n",
      "Epoch [10/10], Step [300/600], Loss: 0.0073\n",
      "Epoch [10/10], Step [400/600], Loss: 0.0085\n",
      "Epoch [10/10], Step [500/600], Loss: 0.0162\n",
      "Epoch [10/10], Step [600/600], Loss: 0.0047\n",
      "Accuracy of the network on the 10000 test images: 99.90666666666667 %\n"
     ]
    }
   ],
   "source": [
    "# training loop \n",
    "n_total_steps = len(train_loader)\n",
    "for epoch in range(num_epochs):\n",
    "    for i, (images, labels) in enumerate(train_loader):  \n",
    "        # origin shape: [100, 1, 28, 28]\n",
    "        # resized: [100, 784]\n",
    "        images = images.reshape(-1, 28*28).to(device)\n",
    "        labels = labels.to(device)\n",
    "        \n",
    "        # Forward pass\n",
    "        outputs = model(images)\n",
    "        loss = criterion(outputs, labels)\n",
    "        \n",
    "        # Backward and optimize\n",
    "        optimizer.zero_grad()\n",
    "        loss.backward()\n",
    "        optimizer.step()\n",
    "        \n",
    "        if (i+1) % 100 == 0:\n",
    "            print (f'Epoch [{epoch+1}/{num_epochs}], Step [{i+1}/{n_total_steps}], Loss: {loss.item():.4f}')\n",
    "\n",
    "# test\n",
    "with torch.no_grad():\n",
    "    n_correct = 0 \n",
    "    n_samples = 0\n",
    "    for images, labels in test_loader:\n",
    "        images = images.reshape(-1, 28*28).to(device)\n",
    "        labels = labels.to(device)\n",
    "        outputs = model(images)\n",
    "        # max returns (value ,index)\n",
    "        _, predicted = torch.max(outputs.data, 1)\n",
    "        n_samples += labels.shape[0]\n",
    "        n_correct += (predicted == labels).sum().item()\n",
    "\n",
    "    acc = 100.0 * n_correct / n_samples\n",
    "    print(f'Accuracy of the network on the 10000 test images: {acc} %')\n",
    "\n",
    "        "
   ]
  },
  {
   "cell_type": "code",
   "execution_count": null,
   "metadata": {},
   "outputs": [],
   "source": []
  }
 ],
 "metadata": {
  "kernelspec": {
   "display_name": "Python 3",
   "language": "python",
   "name": "python3"
  },
  "language_info": {
   "codemirror_mode": {
    "name": "ipython",
    "version": 3
   },
   "file_extension": ".py",
   "mimetype": "text/x-python",
   "name": "python",
   "nbconvert_exporter": "python",
   "pygments_lexer": "ipython3",
   "version": "3.7.6"
  }
 },
 "nbformat": 4,
 "nbformat_minor": 4
}
